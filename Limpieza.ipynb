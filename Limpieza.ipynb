{
 "cells": [
  {
   "cell_type": "code",
   "execution_count": 38,
   "metadata": {},
   "outputs": [
    {
     "data": {
      "text/plain": [
       "(20000, 13)"
      ]
     },
     "execution_count": 38,
     "metadata": {},
     "output_type": "execute_result"
    }
   ],
   "source": [
    "import numpy as np # linear algebra\n",
    "import pandas as pd # data processing\n",
    "from matplotlib import pyplot as plt\n",
    "%matplotlib inline\n",
    "import matplotlib\n",
    "import unicodedata\n",
    "\n",
    "\n",
    "#Read data\n",
    "data = pd.read_csv(\"dataset.csv\", index_col=\"user_id\")\n",
    "\n",
    "#check data\n",
    "\n",
    "data.shape\n"
   ]
  },
  {
   "cell_type": "code",
   "execution_count": 39,
   "metadata": {},
   "outputs": [
    {
     "data": {
      "text/html": [
       "<div>\n",
       "<style scoped>\n",
       "    .dataframe tbody tr th:only-of-type {\n",
       "        vertical-align: middle;\n",
       "    }\n",
       "\n",
       "    .dataframe tbody tr th {\n",
       "        vertical-align: top;\n",
       "    }\n",
       "\n",
       "    .dataframe thead th {\n",
       "        text-align: right;\n",
       "    }\n",
       "</style>\n",
       "<table border=\"1\" class=\"dataframe\">\n",
       "  <thead>\n",
       "    <tr style=\"text-align: right;\">\n",
       "      <th></th>\n",
       "      <th>install_time</th>\n",
       "      <th>platform</th>\n",
       "      <th>country_region</th>\n",
       "      <th>city</th>\n",
       "      <th>gender</th>\n",
       "      <th>min_age_range</th>\n",
       "      <th>max_age_range</th>\n",
       "      <th>event_1</th>\n",
       "      <th>event_2</th>\n",
       "      <th>event_3</th>\n",
       "      <th>event_4</th>\n",
       "      <th>event_5</th>\n",
       "      <th>target_churn_indicator</th>\n",
       "    </tr>\n",
       "    <tr>\n",
       "      <th>user_id</th>\n",
       "      <th></th>\n",
       "      <th></th>\n",
       "      <th></th>\n",
       "      <th></th>\n",
       "      <th></th>\n",
       "      <th></th>\n",
       "      <th></th>\n",
       "      <th></th>\n",
       "      <th></th>\n",
       "      <th></th>\n",
       "      <th></th>\n",
       "      <th></th>\n",
       "      <th></th>\n",
       "    </tr>\n",
       "  </thead>\n",
       "  <tbody>\n",
       "    <tr>\n",
       "      <td>2ba6f357</td>\n",
       "      <td>2018-07-04 19:24:24</td>\n",
       "      <td>Android</td>\n",
       "      <td>Santa Cruz</td>\n",
       "      <td>Río Gallegos</td>\n",
       "      <td>male</td>\n",
       "      <td>13</td>\n",
       "      <td>17</td>\n",
       "      <td>1</td>\n",
       "      <td>2</td>\n",
       "      <td>0</td>\n",
       "      <td>1</td>\n",
       "      <td>1</td>\n",
       "      <td>0</td>\n",
       "    </tr>\n",
       "    <tr>\n",
       "      <td>3cb936c1</td>\n",
       "      <td>2018-06-30 13:41:29</td>\n",
       "      <td>Android</td>\n",
       "      <td>Corrientes</td>\n",
       "      <td>Corrientes</td>\n",
       "      <td>male</td>\n",
       "      <td>13</td>\n",
       "      <td>17</td>\n",
       "      <td>0</td>\n",
       "      <td>7</td>\n",
       "      <td>0</td>\n",
       "      <td>3</td>\n",
       "      <td>0</td>\n",
       "      <td>1</td>\n",
       "    </tr>\n",
       "    <tr>\n",
       "      <td>17d88bbc</td>\n",
       "      <td>2018-06-30 16:02:30</td>\n",
       "      <td>Android</td>\n",
       "      <td>Cordoba</td>\n",
       "      <td>Villa Carlos Paz</td>\n",
       "      <td>female</td>\n",
       "      <td>18</td>\n",
       "      <td>20</td>\n",
       "      <td>2</td>\n",
       "      <td>1</td>\n",
       "      <td>0</td>\n",
       "      <td>2</td>\n",
       "      <td>2</td>\n",
       "      <td>1</td>\n",
       "    </tr>\n",
       "    <tr>\n",
       "      <td>7baa10b6</td>\n",
       "      <td>2018-07-02 21:08:33</td>\n",
       "      <td>Android</td>\n",
       "      <td>Buenos Aires</td>\n",
       "      <td>Don Torcuato</td>\n",
       "      <td>female</td>\n",
       "      <td>13</td>\n",
       "      <td>17</td>\n",
       "      <td>5</td>\n",
       "      <td>6</td>\n",
       "      <td>0</td>\n",
       "      <td>2</td>\n",
       "      <td>5</td>\n",
       "      <td>0</td>\n",
       "    </tr>\n",
       "    <tr>\n",
       "      <td>120d379</td>\n",
       "      <td>2018-07-07 04:18:47</td>\n",
       "      <td>Android</td>\n",
       "      <td>Santiago del Estero</td>\n",
       "      <td>Santiago del Estero</td>\n",
       "      <td>female</td>\n",
       "      <td>13</td>\n",
       "      <td>17</td>\n",
       "      <td>8</td>\n",
       "      <td>12</td>\n",
       "      <td>0</td>\n",
       "      <td>2</td>\n",
       "      <td>3</td>\n",
       "      <td>0</td>\n",
       "    </tr>\n",
       "  </tbody>\n",
       "</table>\n",
       "</div>"
      ],
      "text/plain": [
       "                 install_time platform       country_region  \\\n",
       "user_id                                                       \n",
       "2ba6f357  2018-07-04 19:24:24  Android           Santa Cruz   \n",
       "3cb936c1  2018-06-30 13:41:29  Android           Corrientes   \n",
       "17d88bbc  2018-06-30 16:02:30  Android              Cordoba   \n",
       "7baa10b6  2018-07-02 21:08:33  Android         Buenos Aires   \n",
       "120d379   2018-07-07 04:18:47  Android  Santiago del Estero   \n",
       "\n",
       "                         city  gender  min_age_range  max_age_range  event_1  \\\n",
       "user_id                                                                        \n",
       "2ba6f357         Río Gallegos    male             13             17        1   \n",
       "3cb936c1           Corrientes    male             13             17        0   \n",
       "17d88bbc     Villa Carlos Paz  female             18             20        2   \n",
       "7baa10b6         Don Torcuato  female             13             17        5   \n",
       "120d379   Santiago del Estero  female             13             17        8   \n",
       "\n",
       "          event_2  event_3  event_4  event_5  target_churn_indicator  \n",
       "user_id                                                               \n",
       "2ba6f357        2        0        1        1                       0  \n",
       "3cb936c1        7        0        3        0                       1  \n",
       "17d88bbc        1        0        2        2                       1  \n",
       "7baa10b6        6        0        2        5                       0  \n",
       "120d379        12        0        2        3                       0  "
      ]
     },
     "execution_count": 39,
     "metadata": {},
     "output_type": "execute_result"
    }
   ],
   "source": [
    "data.head()"
   ]
  },
  {
   "cell_type": "code",
   "execution_count": 21,
   "metadata": {},
   "outputs": [
    {
     "data": {
      "text/plain": [
       "install_time                0\n",
       "platform                    0\n",
       "country_region            479\n",
       "city                      935\n",
       "gender                      0\n",
       "min_age_range               0\n",
       "max_age_range               0\n",
       "event_1                     0\n",
       "event_2                     0\n",
       "event_3                     0\n",
       "event_4                     0\n",
       "event_5                     0\n",
       "target_churn_indicator      0\n",
       "dtype: int64"
      ]
     },
     "execution_count": 21,
     "metadata": {},
     "output_type": "execute_result"
    }
   ],
   "source": [
    "#Exploration\n",
    "\n",
    "data.isnull().sum()"
   ]
  },
  {
   "cell_type": "code",
   "execution_count": 35,
   "metadata": {},
   "outputs": [
    {
     "data": {
      "text/plain": [
       "(20000, 14)"
      ]
     },
     "execution_count": 35,
     "metadata": {},
     "output_type": "execute_result"
    }
   ],
   "source": []
  },
  {
   "cell_type": "code",
   "execution_count": 17,
   "metadata": {},
   "outputs": [
    {
     "data": {
      "text/plain": [
       "country_region\n",
       "Buenos Aires           9946\n",
       "Catamarca               140\n",
       "Chaco                   392\n",
       "Chubut                  181\n",
       "Cordoba                1900\n",
       "Corrientes              331\n",
       "Entre Rios             1153\n",
       "Formosa                 212\n",
       "Jujuy                   189\n",
       "La Pampa                164\n",
       "La Rioja                208\n",
       "Mendoza                 686\n",
       "Misiones                355\n",
       "Neuquen                 261\n",
       "Rio Negro               208\n",
       "Salta                   685\n",
       "San Juan                200\n",
       "San Luis                234\n",
       "Santa Cruz              103\n",
       "Santa Fe                886\n",
       "Santiago del Estero     234\n",
       "Tierra del Fuego         70\n",
       "Tucuman                 783\n",
       "Name: country_region, dtype: int64"
      ]
     },
     "execution_count": 17,
     "metadata": {},
     "output_type": "execute_result"
    }
   ],
   "source": [
    "#data.groupby(\"country_region\",)[\"country_region\"].agg(\"count\")"
   ]
  },
  {
   "cell_type": "code",
   "execution_count": 18,
   "metadata": {},
   "outputs": [
    {
     "data": {
      "text/plain": [
       "gender\n",
       "female     10835\n",
       "male        8992\n",
       "unknown      173\n",
       "Name: gender, dtype: int64"
      ]
     },
     "execution_count": 18,
     "metadata": {},
     "output_type": "execute_result"
    }
   ],
   "source": [
    "#data.groupby(\"gender\",)[\"gender\"].agg(\"count\")"
   ]
  },
  {
   "cell_type": "code",
   "execution_count": 19,
   "metadata": {},
   "outputs": [
    {
     "data": {
      "text/plain": [
       "min_age_range\n",
       "13.0     7430\n",
       "17.0        7\n",
       "18.0    12546\n",
       "20.0       17\n",
       "Name: min_age_range, dtype: int64"
      ]
     },
     "execution_count": 19,
     "metadata": {},
     "output_type": "execute_result"
    }
   ],
   "source": [
    "#data.groupby(\"min_age_range\",)[\"min_age_range\"].agg(\"count\")"
   ]
  },
  {
   "cell_type": "code",
   "execution_count": 20,
   "metadata": {},
   "outputs": [
    {
     "data": {
      "text/plain": [
       "max_age_range\n",
       "13.0        1\n",
       "17.0     7432\n",
       "18.0        2\n",
       "20.0    12548\n",
       "21.0       17\n",
       "Name: max_age_range, dtype: int64"
      ]
     },
     "execution_count": 20,
     "metadata": {},
     "output_type": "execute_result"
    }
   ],
   "source": [
    "#data.groupby(\"max_age_range\",)[\"max_age_range\"].agg(\"count\")"
   ]
  },
  {
   "cell_type": "code",
   "execution_count": 9,
   "metadata": {},
   "outputs": [],
   "source": [
    "#Limpieza\n",
    "\n",
    "#normalizar data\n",
    "cols = data.select_dtypes(include=[np.object]).columns\n",
    "data[cols] = data[cols].apply(lambda x: x.str.normalize('NFKD').str.encode('ascii', errors='ignore').str.decode('utf-8'))\n",
    "\n",
    "#Reemplazar substr innecesarias\n",
    "data[\"country_region\"]= data[\"country_region\"].str.replace(\" Province\", \"\")\n",
    "data[\"country_region\"]= data[\"country_region\"].str.replace(\" F.D.\", \"\")\n",
    "\n",
    "#data.groupby(\"country_region\",)[\"country_region\"].agg(\"count\")"
   ]
  },
  {
   "cell_type": "code",
   "execution_count": 15,
   "metadata": {},
   "outputs": [
    {
     "data": {
      "text/plain": [
       "min_age_range\n",
       "13.0     7430\n",
       "17.0        7\n",
       "18.0    12546\n",
       "20.0       17\n",
       "Name: min_age_range, dtype: int64"
      ]
     },
     "execution_count": 15,
     "metadata": {},
     "output_type": "execute_result"
    }
   ],
   "source": [
    "cond = data.min_age_range > data.max_age_range\n",
    "\n",
    "data.loc[cond, ['min_age_range', 'max_age_range']] = data.loc[cond, ['max_age_range', 'min_age_range']].values\n",
    "\n",
    "#data.groupby(\"min_age_range\",)[\"min_age_range\"].agg(\"count\")"
   ]
  },
  {
   "cell_type": "code",
   "execution_count": 16,
   "metadata": {},
   "outputs": [
    {
     "data": {
      "text/plain": [
       "max_age_range\n",
       "13.0        1\n",
       "17.0     7432\n",
       "18.0        2\n",
       "20.0    12548\n",
       "21.0       17\n",
       "Name: max_age_range, dtype: int64"
      ]
     },
     "execution_count": 16,
     "metadata": {},
     "output_type": "execute_result"
    }
   ],
   "source": [
    "#data.groupby(\"max_age_range\",)[\"max_age_range\"].agg(\"count\")"
   ]
  },
  {
   "cell_type": "code",
   "execution_count": 30,
   "metadata": {},
   "outputs": [],
   "source": [
    "data[\"age_range\"] = data[\"min_age_range\"].astype(str) + \"-\" + data[\"max_age_range\"].astype(str)"
   ]
  },
  {
   "cell_type": "code",
   "execution_count": 13,
   "metadata": {},
   "outputs": [
    {
     "data": {
      "text/plain": [
       "install_time                0\n",
       "platform                    0\n",
       "country_region            479\n",
       "city                      935\n",
       "gender                      0\n",
       "min_age_range               0\n",
       "max_age_range               0\n",
       "event_1                     0\n",
       "event_2                     0\n",
       "event_3                     0\n",
       "event_4                     0\n",
       "event_5                     0\n",
       "target_churn_indicator      0\n",
       "dtype: int64"
      ]
     },
     "execution_count": 13,
     "metadata": {},
     "output_type": "execute_result"
    }
   ],
   "source": [
    "data.isnull().sum()"
   ]
  },
  {
   "cell_type": "code",
   "execution_count": 31,
   "metadata": {},
   "outputs": [
    {
     "data": {
      "text/html": [
       "<div>\n",
       "<style scoped>\n",
       "    .dataframe tbody tr th:only-of-type {\n",
       "        vertical-align: middle;\n",
       "    }\n",
       "\n",
       "    .dataframe tbody tr th {\n",
       "        vertical-align: top;\n",
       "    }\n",
       "\n",
       "    .dataframe thead th {\n",
       "        text-align: right;\n",
       "    }\n",
       "</style>\n",
       "<table border=\"1\" class=\"dataframe\">\n",
       "  <thead>\n",
       "    <tr style=\"text-align: right;\">\n",
       "      <th></th>\n",
       "      <th>install_time</th>\n",
       "      <th>platform</th>\n",
       "      <th>country_region</th>\n",
       "      <th>city</th>\n",
       "      <th>gender</th>\n",
       "      <th>min_age_range</th>\n",
       "      <th>max_age_range</th>\n",
       "      <th>event_1</th>\n",
       "      <th>event_2</th>\n",
       "      <th>event_3</th>\n",
       "      <th>event_4</th>\n",
       "      <th>event_5</th>\n",
       "      <th>target_churn_indicator</th>\n",
       "      <th>age_range</th>\n",
       "    </tr>\n",
       "    <tr>\n",
       "      <th>user_id</th>\n",
       "      <th></th>\n",
       "      <th></th>\n",
       "      <th></th>\n",
       "      <th></th>\n",
       "      <th></th>\n",
       "      <th></th>\n",
       "      <th></th>\n",
       "      <th></th>\n",
       "      <th></th>\n",
       "      <th></th>\n",
       "      <th></th>\n",
       "      <th></th>\n",
       "      <th></th>\n",
       "      <th></th>\n",
       "    </tr>\n",
       "  </thead>\n",
       "  <tbody>\n",
       "    <tr>\n",
       "      <td>2ba6f357</td>\n",
       "      <td>2018-07-04 19:24:24</td>\n",
       "      <td>Android</td>\n",
       "      <td>Santa Cruz</td>\n",
       "      <td>Rio Gallegos</td>\n",
       "      <td>male</td>\n",
       "      <td>13.0</td>\n",
       "      <td>17.0</td>\n",
       "      <td>1</td>\n",
       "      <td>2</td>\n",
       "      <td>0</td>\n",
       "      <td>1</td>\n",
       "      <td>1</td>\n",
       "      <td>0</td>\n",
       "      <td>13.0-17.0</td>\n",
       "    </tr>\n",
       "    <tr>\n",
       "      <td>3cb936c1</td>\n",
       "      <td>2018-06-30 13:41:29</td>\n",
       "      <td>Android</td>\n",
       "      <td>Corrientes</td>\n",
       "      <td>Corrientes</td>\n",
       "      <td>male</td>\n",
       "      <td>13.0</td>\n",
       "      <td>17.0</td>\n",
       "      <td>0</td>\n",
       "      <td>7</td>\n",
       "      <td>0</td>\n",
       "      <td>3</td>\n",
       "      <td>0</td>\n",
       "      <td>1</td>\n",
       "      <td>13.0-17.0</td>\n",
       "    </tr>\n",
       "    <tr>\n",
       "      <td>17d88bbc</td>\n",
       "      <td>2018-06-30 16:02:30</td>\n",
       "      <td>Android</td>\n",
       "      <td>Cordoba</td>\n",
       "      <td>Villa Carlos Paz</td>\n",
       "      <td>female</td>\n",
       "      <td>18.0</td>\n",
       "      <td>20.0</td>\n",
       "      <td>2</td>\n",
       "      <td>1</td>\n",
       "      <td>0</td>\n",
       "      <td>2</td>\n",
       "      <td>2</td>\n",
       "      <td>1</td>\n",
       "      <td>18.0-20.0</td>\n",
       "    </tr>\n",
       "    <tr>\n",
       "      <td>7baa10b6</td>\n",
       "      <td>2018-07-02 21:08:33</td>\n",
       "      <td>Android</td>\n",
       "      <td>Buenos Aires</td>\n",
       "      <td>Don Torcuato</td>\n",
       "      <td>female</td>\n",
       "      <td>13.0</td>\n",
       "      <td>17.0</td>\n",
       "      <td>5</td>\n",
       "      <td>6</td>\n",
       "      <td>0</td>\n",
       "      <td>2</td>\n",
       "      <td>5</td>\n",
       "      <td>0</td>\n",
       "      <td>13.0-17.0</td>\n",
       "    </tr>\n",
       "    <tr>\n",
       "      <td>120d379</td>\n",
       "      <td>2018-07-07 04:18:47</td>\n",
       "      <td>Android</td>\n",
       "      <td>Santiago del Estero</td>\n",
       "      <td>Santiago del Estero</td>\n",
       "      <td>female</td>\n",
       "      <td>13.0</td>\n",
       "      <td>17.0</td>\n",
       "      <td>8</td>\n",
       "      <td>12</td>\n",
       "      <td>0</td>\n",
       "      <td>2</td>\n",
       "      <td>3</td>\n",
       "      <td>0</td>\n",
       "      <td>13.0-17.0</td>\n",
       "    </tr>\n",
       "  </tbody>\n",
       "</table>\n",
       "</div>"
      ],
      "text/plain": [
       "                 install_time platform       country_region  \\\n",
       "user_id                                                       \n",
       "2ba6f357  2018-07-04 19:24:24  Android           Santa Cruz   \n",
       "3cb936c1  2018-06-30 13:41:29  Android           Corrientes   \n",
       "17d88bbc  2018-06-30 16:02:30  Android              Cordoba   \n",
       "7baa10b6  2018-07-02 21:08:33  Android         Buenos Aires   \n",
       "120d379   2018-07-07 04:18:47  Android  Santiago del Estero   \n",
       "\n",
       "                         city  gender  min_age_range  max_age_range  event_1  \\\n",
       "user_id                                                                        \n",
       "2ba6f357         Rio Gallegos    male           13.0           17.0        1   \n",
       "3cb936c1           Corrientes    male           13.0           17.0        0   \n",
       "17d88bbc     Villa Carlos Paz  female           18.0           20.0        2   \n",
       "7baa10b6         Don Torcuato  female           13.0           17.0        5   \n",
       "120d379   Santiago del Estero  female           13.0           17.0        8   \n",
       "\n",
       "          event_2  event_3  event_4  event_5  target_churn_indicator  \\\n",
       "user_id                                                                \n",
       "2ba6f357        2        0        1        1                       0   \n",
       "3cb936c1        7        0        3        0                       1   \n",
       "17d88bbc        1        0        2        2                       1   \n",
       "7baa10b6        6        0        2        5                       0   \n",
       "120d379        12        0        2        3                       0   \n",
       "\n",
       "          age_range  \n",
       "user_id              \n",
       "2ba6f357  13.0-17.0  \n",
       "3cb936c1  13.0-17.0  \n",
       "17d88bbc  18.0-20.0  \n",
       "7baa10b6  13.0-17.0  \n",
       "120d379   13.0-17.0  "
      ]
     },
     "execution_count": 31,
     "metadata": {},
     "output_type": "execute_result"
    }
   ],
   "source": [
    "data.head()"
   ]
  },
  {
   "cell_type": "code",
   "execution_count": 34,
   "metadata": {},
   "outputs": [
    {
     "data": {
      "text/plain": [
       "(20000, 14)"
      ]
     },
     "execution_count": 34,
     "metadata": {},
     "output_type": "execute_result"
    }
   ],
   "source": [
    "data.shape"
   ]
  },
  {
   "cell_type": "code",
   "execution_count": 32,
   "metadata": {},
   "outputs": [],
   "source": [
    "#Export\n",
    "\n",
    "data.to_csv(\"dataset_limpio.csv\")\n"
   ]
  },
  {
   "cell_type": "code",
   "execution_count": null,
   "metadata": {},
   "outputs": [],
   "source": []
  }
 ],
 "metadata": {
  "kernelspec": {
   "display_name": "Python 3",
   "language": "python",
   "name": "python3"
  },
  "language_info": {
   "codemirror_mode": {
    "name": "ipython",
    "version": 3
   },
   "file_extension": ".py",
   "mimetype": "text/x-python",
   "name": "python",
   "nbconvert_exporter": "python",
   "pygments_lexer": "ipython3",
   "version": "3.7.4"
  }
 },
 "nbformat": 4,
 "nbformat_minor": 2
}
